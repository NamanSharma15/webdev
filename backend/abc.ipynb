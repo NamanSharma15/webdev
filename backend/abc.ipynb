{
 "cells": [
  {
   "cell_type": "code",
   "execution_count": 1,
   "metadata": {},
   "outputs": [],
   "source": [
    "import pandas as pd\n",
    "import numpy as np\n",
    "import xlrd"
   ]
  },
  {
   "cell_type": "code",
   "execution_count": 2,
   "metadata": {},
   "outputs": [],
   "source": [
    "df = pd.read_excel(\"dataset_combined.xlsx\")"
   ]
  },
  {
   "cell_type": "code",
   "execution_count": 3,
   "metadata": {},
   "outputs": [
    {
     "data": {
      "text/plain": [
       "array(['INSPIRE Scholarship 2022-23 ? Scholarship for Higher Education (SHE)',\n",
       "       'Abdul Kalam Technology Innovation National Fellowship',\n",
       "       'AAI Sports Scholarship Scheme in India 2022-23',\n",
       "       'Glow and lovely Career Foundation Scholarship',\n",
       "       'National Fellowship for Persons with Disabilities',\n",
       "       'ONGC Sports Scholarship Scheme 2022-23',\n",
       "       'Pragati Scholarship ? AICTE-Scholarship Scheme to Girl Child',\n",
       "       'Dr. Ambedkar post matric Scholarship',\n",
       "       'Indira Gandhi Scholarship for Single Girl Child UGC Scholarship for PG Programmes',\n",
       "       'National Overseas Scholarship Scheme 2021-22'], dtype=object)"
      ]
     },
     "execution_count": 3,
     "metadata": {},
     "output_type": "execute_result"
    }
   ],
   "source": [
    "df[\"Name\"].unique()"
   ]
  },
  {
   "cell_type": "code",
   "execution_count": null,
   "metadata": {},
   "outputs": [],
   "source": []
  }
 ],
 "metadata": {
  "kernelspec": {
   "display_name": "Python 3",
   "language": "python",
   "name": "python3"
  },
  "language_info": {
   "codemirror_mode": {
    "name": "ipython",
    "version": 3
   },
   "file_extension": ".py",
   "mimetype": "text/x-python",
   "name": "python",
   "nbconvert_exporter": "python",
   "pygments_lexer": "ipython3",
   "version": "3.11.0"
  }
 },
 "nbformat": 4,
 "nbformat_minor": 2
}
